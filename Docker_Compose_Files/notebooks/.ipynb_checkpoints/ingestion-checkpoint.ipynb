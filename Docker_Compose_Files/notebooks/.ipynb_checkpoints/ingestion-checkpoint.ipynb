{
 "cells": [
  {
   "cell_type": "code",
   "execution_count": 1,
   "id": "bc1d0e9b-7448-4c71-9711-f78140f2475b",
   "metadata": {},
   "outputs": [],
   "source": [
    "import pyspark.sql as spark"
   ]
  },
  {
   "cell_type": "code",
   "execution_count": null,
   "id": "19aeb9ae-031c-463f-9627-b7c77f2bf260",
   "metadata": {},
   "outputs": [],
   "source": []
  }
 ],
 "metadata": {
  "kernelspec": {
   "display_name": "Python 3 (ipykernel)",
   "language": "python",
   "name": "python3"
  },
  "language_info": {
   "codemirror_mode": {
    "name": "ipython",
    "version": 3
   },
   "file_extension": ".py",
   "mimetype": "text/x-python",
   "name": "python",
   "nbconvert_exporter": "python",
   "pygments_lexer": "ipython3",
   "version": "3.9.18"
  }
 },
 "nbformat": 4,
 "nbformat_minor": 5
}
